{
 "cells": [
  {
   "cell_type": "markdown",
   "id": "9bda93ba",
   "metadata": {
    "id": "9bda93ba"
   },
   "source": [
    "## Journal used for the implemetation\n",
    "<b>Journal title: Stock Market Prediction Using Recurrent Neural Network</b>\n",
    "</br>https://ieeexplore.ieee.org/document/10080154\n",
    "\n",
    "<b>Authors: K. Ritwik Reddy, B. Tarun Kumar, V. Rohit Ganesh, Polisetty Swetha, Prakash Kumar Sarangi</b>\n",
    "\n",
    "<b>Journal Name: 2022 IEEE International Conference on Current Development in Engineering and Technology (CCET)</b>\n",
    "\n",
    "<b>Year: 2022 [23-24 December 2022]</b>"
   ]
  },
  {
   "cell_type": "markdown",
   "id": "e434de04-1222-479a-96b3-b3ff3c91b74d",
   "metadata": {},
   "source": [
    "<h2>Paper Analysis: \"Stock Market Prediction Using Recurrent Neural Network\"</h2>\n",
    "This research paper presents an approach to predicting stock market prices using Recurrent Neural Networks (RNNs) and Long Short-Term Memory (LSTM) models. Below is a detailed breakdown of the study."
   ]
  },
  {
   "cell_type": "markdown",
   "id": "f2710eaf-936d-4f37-923d-02a6c5e428c1",
   "metadata": {},
   "source": [
    "<h2>1. Paper's Objectives</h2>\n",
    "The primary goal of this research is to develop a deep learning model to predict stock prices, minimizing the risk factor for investors.\n",
    "</br>The study focuses on utilizing RNN and LSTM models to forecast future stock market prices based on historical stock data.\n",
    "</br>The researchers aim to achieve higher prediction accuracy by increasing the number of training epochs.\n",
    "</br>The system is designed to assist users in making optimal investment decisions by identifying safe stocks with minimal risks and maximizing profit opportunities."
   ]
  },
  {
   "cell_type": "markdown",
   "id": "c730f607-9c32-4469-806e-8583f5e0a51b",
   "metadata": {},
   "source": [
    "<h2>2. Methodologies / Algorithms Implemented</h2>\n",
    "The authors propose a pipeline-based prediction model using deep learning techniques, specifically RNNs and LSTMs. The key steps in their approach are:\n",
    "</br>\n",
    "</br>\n",
    "<b>A. Data Collection: </b>\n",
    "Stock market datasets are obtained from Yahoo Finance and include daily stock prices of companies like Microsoft, Infosys, TCS, and Tata.\n",
    "Data includes open, close, high, low prices, and trading volume.\n",
    "</br>\n",
    "</br>\n",
    "<b>B. Preprocessing & Feature Engineering: </b>\n",
    "Historical data is collected and cleaned.\n",
    "Principal Component Analysis (PCA) is used for dimensionality reduction, ensuring the most important stock market indicators are retained.\n",
    "The dataset is split into training (80%) and testing (20%) to evaluate model performance.\n",
    "</br>\n",
    "</br>\n",
    "<b>C. Model Architecture: </b>\n",
    "The research employs two types of deep learning models:\n",
    "\n",
    "Recurrent Neural Network (RNN): RNNs are commonly used for sequential data modeling.\n",
    "The model learns dependencies in stock price trends over time.\n",
    "</br>\n",
    "Long Short-Term Memory (LSTM): LSTMs are an advanced form of RNN designed to capture long-term dependencies in time series data.\n",
    "</br>\n",
    "The model consists of:\n",
    "1 LSTM layer with 32 units\n",
    "1 dense layer with 1 neuron (output)\n",
    "Tanh activation function\n",
    "100 training epochs\n",
    "Batch size of 8\n",
    "</br>\n",
    "</br>\n",
    "<b>D. Model Training: </b>\n",
    "The Adam optimizer is used for efficient learning.\n",
    "Mean Absolute Percentage Error (MAPE) is the evaluation metric.\n",
    "Predictions are compared with real stock prices to assess performance.\n",
    "</br>\n",
    "</br>\n",
    "<b>E. Experimental Setup: </b>\n",
    "The models are trained on a 4 GB RAM, Intel i3 processor system using Jupyter Notebook (Python).\n",
    "Stocks analyzed include Microsoft, Infosys, TCS, and Tata.\n",
    "</br>\n",
    "</br>\n",
    "<b>F. Performance Metrics & Results: </b>\n",
    "The Mean Absolute Percentage Error (MAPE) is calculated for each stock:\n",
    "Microsoft: 5.37%\n",
    "Infosys: 5.98%\n",
    "TCS: 3.06%\n",
    "Tata: 4.14%\n",
    "Predictions are visualized through actual vs. predicted stock prices graphs."
   ]
  },
  {
   "cell_type": "markdown",
   "id": "fd09116d-2b43-4161-99e0-09d1a6feef5d",
   "metadata": {},
   "source": [
    "<h2>3. Significance of the Study</h2>\n",
    "</br>\n",
    "<b>Stock Market Volatility Handling: </b>\n",
    "The study highlights the importance of using deep learning models for predicting stock market trends, considering the highly volatile nature of stock prices.\n",
    "\n",
    "<b>Higher Accuracy with LSTMs:</b>\n",
    "The research demonstrates that LSTMs outperform traditional models (like ARIMA) by capturing long-term dependencies in stock price movements.\n",
    "\n",
    "<b>Practical Investment Guidance:</b>\n",
    "The model provides actionable insights for investors by identifying trends in specific stock movements.\n",
    "\n",
    "<b>Potential for Future Improvements:</b>\n",
    "The study acknowledges that stock prediction remains challenging, and future research can explore alternative deep learning techniques like:\n",
    "Transformer-based models (e.g., Attention Mechanisms)\n",
    "Hybrid models combining CNNs and LSTMs\n",
    "Reinforcement Learning-based trading algorithms"
   ]
  },
  {
   "cell_type": "markdown",
   "id": "ec4d6507-c911-4f8f-b797-0cc7d3a60cfd",
   "metadata": {},
   "source": [
    "<h2>Key Takeaways</h2>\n",
    "\n",
    "<b>Strengths of the Paper:</b>\n",
    "Well-defined deep learning pipeline for stock market forecasting.\n",
    "Use of LSTM networks for improved accuracy.\n",
    "Consideration of real-world datasets from Yahoo Finance.\n",
    "</br>\n",
    "<b>Limitations:</b>\n",
    "The model works well only for short-term predictions.\n",
    "Longer forecasting periods may introduce errors due to stock market unpredictability.\n",
    "The study does not compare LSTMs with advanced deep learning techniques like Transformers."
   ]
  },
  {
   "cell_type": "markdown",
   "id": "0c7f7028",
   "metadata": {},
   "source": [
    "# 1. Import the required libraries"
   ]
  },
  {
   "cell_type": "code",
   "execution_count": 32,
   "id": "1a096390",
   "metadata": {},
   "outputs": [],
   "source": [
    "import torch\n",
    "import torch.nn as nn\n",
    "import torch.optim as optim\n",
    "import numpy as np\n",
    "import pandas as pd\n",
    "import matplotlib.pyplot as plt\n",
    "from sklearn.preprocessing import MinMaxScaler\n",
    "from sklearn.metrics import accuracy_score, precision_score, recall_score, f1_score, confusion_matrix\n",
    "from torch.utils.data import Dataset, DataLoader\n",
    "import yfinance as yf"
   ]
  },
  {
   "cell_type": "code",
   "execution_count": 33,
   "id": "ce2cdb3d-9d33-47ce-a39f-4fbe79116a55",
   "metadata": {},
   "outputs": [],
   "source": [
    "# Set device (GPU if available)\n",
    "device = torch.device(\"cuda\" if torch.cuda.is_available() else \"cpu\")"
   ]
  },
  {
   "cell_type": "markdown",
   "id": "3cc8e0cb",
   "metadata": {
    "id": "3cc8e0cb"
   },
   "source": [
    "# 2. Data Acquisition\n",
    " \n",
    "For the problem identified by you, students have to find the data source themselves from any data source.\n",
    "\n",
    "Provide the URL of the data used.\n",
    "\n",
    "Write Code for converting the above downloaded data into a form suitable for DL\n",
    "\n"
   ]
  },
  {
   "cell_type": "markdown",
   "id": "fd2bb982-7c2f-4191-8b1f-408a8f28957e",
   "metadata": {},
   "source": [
    "Retrieves stock price data based on the given stock ticker symbol and date range from yfinance.\n",
    "</br>Extracts only the closing prices for training the model.\n",
    "</br>Returns a NumPy array containing the stock prices."
   ]
  },
  {
   "cell_type": "code",
   "execution_count": 34,
   "id": "4b51d895",
   "metadata": {
    "id": "4b51d895"
   },
   "outputs": [],
   "source": [
    "# Data Acquisition from Yahoo Finance\n",
    "def load_data(stock_symbol, start_date, end_date):\n",
    "    df = yf.download(stock_symbol, start=start_date, end=end_date)\n",
    "    df = df[['Close']].values  # Use only closing prices\n",
    "    return df"
   ]
  },
  {
   "cell_type": "markdown",
   "id": "102e0e36",
   "metadata": {
    "id": "102e0e36"
   },
   "source": [
    "# 3. Data Preparation\n",
    "\n",
    "Perform the data prepracessing that is required for the data that you have downloaded. \n",
    "\n",
    "\n",
    "This stage depends on the dataset that is used. "
   ]
  },
  {
   "cell_type": "markdown",
   "id": "3b4c34e8-ccef-4852-b9eb-ac1e70600add",
   "metadata": {},
   "source": [
    "Converts stock price data into a time-series dataset where each sample consists of window_size previous stock prices as input and the next price as output.\n",
    "\n",
    "Implements PyTorch's Dataset class to facilitate batch processing."
   ]
  },
  {
   "cell_type": "code",
   "execution_count": 35,
   "id": "dd3118eb",
   "metadata": {
    "id": "dd3118eb"
   },
   "outputs": [],
   "source": [
    "# Data Preparation\n",
    "class StockDataset(Dataset):\n",
    "    def __init__(self, data, window_size):\n",
    "        self.data = data\n",
    "        self.window_size = window_size\n",
    "\n",
    "    def __len__(self):\n",
    "        return len(self.data) - self.window_size\n",
    "\n",
    "    def __getitem__(self, idx):\n",
    "        x = self.data[idx:idx + self.window_size]\n",
    "        y = self.data[idx + self.window_size]\n",
    "        return torch.tensor(x, dtype=torch.float32), torch.tensor(y, dtype=torch.float32)"
   ]
  },
  {
   "cell_type": "markdown",
   "id": "ddcbbdc3-3d38-42bf-8a19-ec54d9652fa9",
   "metadata": {},
   "source": [
    "Min-max normalizes the stock prices between 0 and 1.\n",
    "\n",
    "Splits the dataset into training (80%) and testing (20%).\n",
    "\n",
    "Returns PyTorch dataset objects for batch training."
   ]
  },
  {
   "cell_type": "code",
   "execution_count": 36,
   "id": "f398a5ba-22d6-41a0-88e0-3d873f6b35d1",
   "metadata": {},
   "outputs": [],
   "source": [
    "# Normalize data\n",
    "scaler = MinMaxScaler(feature_range=(0, 1))\n",
    "def prepare_data(df, window_size, split_ratio=0.8):\n",
    "    df_scaled = scaler.fit_transform(df)\n",
    "    split = int(len(df_scaled) * split_ratio)\n",
    "    train_data, test_data = df_scaled[:split], df_scaled[split:]\n",
    "    return StockDataset(train_data, window_size), StockDataset(test_data, window_size)"
   ]
  },
  {
   "cell_type": "code",
   "execution_count": 37,
   "id": "d4e858e3-afb8-4195-b17b-9b2145595399",
   "metadata": {},
   "outputs": [
    {
     "name": "stderr",
     "output_type": "stream",
     "text": [
      "[*********************100%***********************]  1 of 1 completed\n"
     ]
    }
   ],
   "source": [
    "df = load_data('AAPL', '2022-01-01', '2024-01-01')\n",
    "train_dataset, test_dataset = prepare_data(df, window_size=50)\n",
    "train_loader = DataLoader(train_dataset, batch_size=16, shuffle=True)\n",
    "test_loader = DataLoader(test_dataset, batch_size=16, shuffle=False)"
   ]
  },
  {
   "cell_type": "code",
   "execution_count": 38,
   "id": "e0aab054-a549-479d-b659-f1173a6c9cba",
   "metadata": {},
   "outputs": [
    {
     "name": "stdout",
     "output_type": "stream",
     "text": [
      "350\n",
      "51\n"
     ]
    }
   ],
   "source": [
    "print(len(train_dataset))\n",
    "print(len(test_dataset))"
   ]
  },
  {
   "cell_type": "code",
   "execution_count": 39,
   "id": "b83f5a61-5378-454f-89bd-5a2f55e62bd6",
   "metadata": {
    "scrolled": true
   },
   "outputs": [
    {
     "data": {
      "text/plain": [
       "(tensor([[0.7539],\n",
       "         [0.7230],\n",
       "         [0.6589],\n",
       "         [0.6198],\n",
       "         [0.6221],\n",
       "         [0.6223],\n",
       "         [0.6611],\n",
       "         [0.6671],\n",
       "         [0.6223],\n",
       "         [0.6341],\n",
       "         [0.5903],\n",
       "         [0.5425],\n",
       "         [0.5194],\n",
       "         [0.4913],\n",
       "         [0.4807],\n",
       "         [0.4561],\n",
       "         [0.4548],\n",
       "         [0.4486],\n",
       "         [0.5974],\n",
       "         [0.6571],\n",
       "         [0.6548],\n",
       "         [0.6713],\n",
       "         [0.6319],\n",
       "         [0.6280],\n",
       "         [0.6182],\n",
       "         [0.6607],\n",
       "         [0.6802],\n",
       "         [0.6243],\n",
       "         [0.5777],\n",
       "         [0.5809],\n",
       "         [0.6333],\n",
       "         [0.6301],\n",
       "         [0.5809],\n",
       "         [0.5597],\n",
       "         [0.5197],\n",
       "         [0.4627],\n",
       "         [0.4985],\n",
       "         [0.5268],\n",
       "         [0.5304],\n",
       "         [0.5047],\n",
       "         [0.5497],\n",
       "         [0.5453],\n",
       "         [0.5043],\n",
       "         [0.4523],\n",
       "         [0.4274],\n",
       "         [0.5013],\n",
       "         [0.4419],\n",
       "         [0.3910],\n",
       "         [0.3359],\n",
       "         [0.3959]]),\n",
       " tensor([0.4562]))"
      ]
     },
     "execution_count": 39,
     "metadata": {},
     "output_type": "execute_result"
    }
   ],
   "source": [
    "train_dataset[0]"
   ]
  },
  {
   "cell_type": "code",
   "execution_count": 40,
   "id": "fd92c9ee-485e-439d-8e70-35b5446fd1e3",
   "metadata": {
    "scrolled": true
   },
   "outputs": [
    {
     "data": {
      "text/plain": [
       "(tensor([[0.7454],\n",
       "         [0.7236],\n",
       "         [0.7206],\n",
       "         [0.7214],\n",
       "         [0.7440],\n",
       "         [0.7168],\n",
       "         [0.7049],\n",
       "         [0.6701],\n",
       "         [0.6768],\n",
       "         [0.6950],\n",
       "         [0.7139],\n",
       "         [0.7665],\n",
       "         [0.7024],\n",
       "         [0.7325],\n",
       "         [0.7539],\n",
       "         [0.8071],\n",
       "         [0.8549],\n",
       "         [0.8579],\n",
       "         [0.8794],\n",
       "         [0.8826],\n",
       "         [0.7907],\n",
       "         [0.7183],\n",
       "         [0.7267],\n",
       "         [0.7427],\n",
       "         [0.7013],\n",
       "         [0.6730],\n",
       "         [0.6937],\n",
       "         [0.6838],\n",
       "         [0.7239],\n",
       "         [0.7388],\n",
       "         [0.6903],\n",
       "         [0.6692],\n",
       "         [0.6808],\n",
       "         [0.6983],\n",
       "         [0.6425],\n",
       "         [0.6218],\n",
       "         [0.6253],\n",
       "         [0.6324],\n",
       "         [0.6668],\n",
       "         [0.6485],\n",
       "         [0.6655],\n",
       "         [0.6825],\n",
       "         [0.7174],\n",
       "         [0.7377],\n",
       "         [0.7296],\n",
       "         [0.7486],\n",
       "         [0.7610],\n",
       "         [0.7358],\n",
       "         [0.7340],\n",
       "         [0.7128]]),\n",
       " tensor([0.6950]))"
      ]
     },
     "execution_count": 40,
     "metadata": {},
     "output_type": "execute_result"
    }
   ],
   "source": [
    "test_dataset[0]"
   ]
  },
  {
   "cell_type": "raw",
   "id": "b310ceab",
   "metadata": {},
   "source": [
    "Report the feature representation that is being used for training the model.\n",
    "\n",
    "##---------Type below this line------------------##"
   ]
  },
  {
   "cell_type": "markdown",
   "id": "3ae0b5d2",
   "metadata": {
    "id": "3ae0b5d2"
   },
   "source": [
    "## 4. Deep Neural Network Architecture\n"
   ]
  },
  {
   "cell_type": "markdown",
   "id": "186bf4d7",
   "metadata": {
    "id": "186bf4d7"
   },
   "source": [
    "## 4.1 Design the architecture that you will be using\n",
    "\n",
    "* CNN / RNN / Transformer as per the journal referenced\n",
    "\n"
   ]
  },
  {
   "cell_type": "markdown",
   "id": "575f9e37",
   "metadata": {
    "id": "575f9e37"
   },
   "source": [
    "## 4.2 DNN Report\n",
    "\n",
    "Report the following and provide justification for the same.\n",
    "\n",
    "* Number of layers\n",
    "* Number of units in each layer\n",
    "* Total number of trainable parameters \n",
    "\n"
   ]
  },
  {
   "cell_type": "markdown",
   "id": "ad3285f0-c24f-4440-8126-755c458726e2",
   "metadata": {},
   "source": [
    "<h2>Model Architecture Summary and Justification</h2>\n",
    "\n",
    "<b>Number of Layers:</b>\n",
    "\n",
    "The model consists of 2 LSTM layers and 1 fully connected (dense) output layer.\n",
    "\n",
    "LSTM layers help capture sequential dependencies in stock price data.\n",
    "\n",
    "The fully connected layer maps the LSTM output to the final predicted stock price.\n",
    "\n",
    "<b>Number of Units in Each Layer:</b>\n",
    "\n",
    "Each LSTM layer has 50 hidden units, allowing it to learn complex patterns from the time series.\n",
    "\n",
    "The fully connected layer has 1 unit, which outputs the predicted stock price.\n",
    "\n",
    "<b>Total Number of Trainable Parameters:</b>The number of trainable parameters can be computed using:\n",
    "</br><i>LSTM Layer Parameters Calculation:</i>\n",
    "\n",
    "    Input-to-hidden weights: (input_dim * hidden_dim) = (1 * 50) = 50\n",
    "    \n",
    "    Hidden-to-hidden weights: (hidden_dim * hidden_dim) = (50 * 50) = 2500\n",
    "    \n",
    "    Bias terms: (4 * hidden_dim) = (4 * 50) = 200\n",
    "    \n",
    "    Total per LSTM layer: (50 + 2500 + 200) = 2750\n",
    "    \n",
    "    Since we have 2 LSTM layers, the total LSTM parameters = 2750 * 2 = 5500\n",
    "\n",
    "<i>Fully Connected Layer Parameters Calculation:</i>\n",
    "\n",
    "    (hidden_dim * output_dim) + bias = (50 * 1) + 1 = 51\n",
    "\n",
    "<i>Final Total Trainable Parameters:</i>\n",
    "\n",
    "    5500 (LSTM layers) + 51 (FC layer) = 5551 trainable parameters\n",
    "\n",
    "<b>Justification:</b>\n",
    "\n",
    "2 LSTM layers allow the model to capture both short-term and long-term dependencies in stock price data.\n",
    "\n",
    "50 hidden units per LSTM layer balance model complexity and training efficiency.\n",
    "\n",
    "The total trainable parameters (~5.5K) ensure the model is expressive without being too large to overfit."
   ]
  },
  {
   "cell_type": "code",
   "execution_count": 41,
   "id": "f438bf3c-4cf4-493c-a541-d8145565f424",
   "metadata": {
    "id": "4d614311"
   },
   "outputs": [],
   "source": [
    "# Deep Neural Network Architecture\n",
    "class LSTMStockPredictor(nn.Module):\n",
    "    def __init__(self, input_dim=1, hidden_dim=50, num_layers=2, output_dim=1):\n",
    "        super(LSTMStockPredictor, self).__init__()\n",
    "        self.lstm = nn.LSTM(input_dim, hidden_dim, num_layers, batch_first=True)\n",
    "        self.fc = nn.Linear(hidden_dim, output_dim)\n",
    "    \n",
    "    def forward(self, x):\n",
    "        lstm_out, _ = self.lstm(x)\n",
    "        x = self.fc(lstm_out[:, -1, :])  # Take last time-step output\n",
    "        return x"
   ]
  },
  {
   "cell_type": "code",
   "execution_count": 42,
   "id": "1398218b-0e5b-48d5-96ce-762bfd648bca",
   "metadata": {},
   "outputs": [
    {
     "name": "stdout",
     "output_type": "stream",
     "text": [
      "Total Trainable Parameters: 31051\n"
     ]
    }
   ],
   "source": [
    "# Model Parameters\n",
    "input_dim = 1\n",
    "hidden_dim = 50\n",
    "num_layers = 2\n",
    "output_dim = 1\n",
    "\n",
    "device = torch.device('cuda' if torch.cuda.is_available() else 'cpu')\n",
    "model = LSTMStockPredictor(input_dim, hidden_dim, num_layers, output_dim).to(device)\n",
    "print(f\"Total Trainable Parameters: {sum(p.numel() for p in model.parameters() if p.requires_grad)}\")"
   ]
  },
  {
   "cell_type": "markdown",
   "id": "bdbc82a1",
   "metadata": {
    "id": "bdbc82a1"
   },
   "source": [
    "# 5. Training the model \n"
   ]
  },
  {
   "cell_type": "markdown",
   "id": "23d8f79a-e860-4b01-b413-56d0feff9591",
   "metadata": {},
   "source": [
    "Uses Mean Squared Error (MSE) loss for training.\n",
    "\n",
    "Adam optimizer for efficient gradient updates.\n",
    "\n",
    "Stores loss history for analysis."
   ]
  },
  {
   "cell_type": "code",
   "execution_count": 43,
   "id": "a85e9754",
   "metadata": {
    "id": "a85e9754"
   },
   "outputs": [],
   "source": [
    "# Training the Model\n",
    "def train_model(model, train_loader, epochs=50, lr=0.001):\n",
    "    criterion = nn.MSELoss()\n",
    "    optimizer = optim.Adam(model.parameters(), lr=lr)\n",
    "    train_loss_history = []\n",
    "\n",
    "    for epoch in range(epochs):\n",
    "        model.train()\n",
    "        total_loss = 0\n",
    "        for inputs, targets in train_loader:\n",
    "            inputs, targets = inputs.to(device).squeeze(-1), targets.to(device).unsqueeze(-1)\n",
    "            inputs = inputs.unsqueeze(-1)  # Ensure input shape is (batch, seq_len, feature_dim=1)\n",
    "            optimizer.zero_grad()\n",
    "            outputs = model(inputs)\n",
    "            loss = criterion(outputs, targets.squeeze(-1))\n",
    "            loss.backward()\n",
    "            optimizer.step()\n",
    "            total_loss += loss.item()\n",
    "        \n",
    "        avg_loss = total_loss / len(train_loader)\n",
    "        train_loss_history.append(avg_loss)\n",
    "        print(f\"Epoch {epoch+1}, Loss: {avg_loss:.4f}\")\n",
    "    \n",
    "    return train_loss_history"
   ]
  },
  {
   "cell_type": "code",
   "execution_count": 44,
   "id": "2a65a5e3-11ee-477b-858c-89004b0fed75",
   "metadata": {},
   "outputs": [
    {
     "name": "stdout",
     "output_type": "stream",
     "text": [
      "Epoch 1, Loss: 0.0838\n",
      "Epoch 2, Loss: 0.0411\n",
      "Epoch 3, Loss: 0.0237\n",
      "Epoch 4, Loss: 0.0119\n",
      "Epoch 5, Loss: 0.0093\n",
      "Epoch 6, Loss: 0.0069\n",
      "Epoch 7, Loss: 0.0062\n",
      "Epoch 8, Loss: 0.0058\n",
      "Epoch 9, Loss: 0.0056\n",
      "Epoch 10, Loss: 0.0050\n",
      "Epoch 11, Loss: 0.0048\n",
      "Epoch 12, Loss: 0.0044\n",
      "Epoch 13, Loss: 0.0045\n",
      "Epoch 14, Loss: 0.0044\n",
      "Epoch 15, Loss: 0.0038\n",
      "Epoch 16, Loss: 0.0039\n",
      "Epoch 17, Loss: 0.0040\n",
      "Epoch 18, Loss: 0.0046\n",
      "Epoch 19, Loss: 0.0037\n",
      "Epoch 20, Loss: 0.0034\n"
     ]
    }
   ],
   "source": [
    "train_loss = train_model(model, train_loader, epochs=20)"
   ]
  },
  {
   "cell_type": "markdown",
   "id": "06f1173c",
   "metadata": {
    "id": "06f1173c"
   },
   "source": [
    "# 6. Test the model\n"
   ]
  },
  {
   "cell_type": "markdown",
   "id": "aa61bacf-910b-4155-b0cb-93ab7887a612",
   "metadata": {},
   "source": [
    "<h2>Model Testing, Evaluation & Visualization</h2>\n",
    "\n",
    "<b>test_model():</b> Generates predictions on test data.\n",
    "\n",
    "<b>evaluate_performance():</b> Calculates accuracy, precision, recall, and F1 score.\n",
    "\n",
    "<b>plot_results():</b> Visualizes training loss and stock price predictions."
   ]
  },
  {
   "cell_type": "code",
   "execution_count": 45,
   "id": "7042235d",
   "metadata": {
    "id": "7042235d"
   },
   "outputs": [],
   "source": [
    "# Testing the Model\n",
    "def test_model(model, test_loader):\n",
    "    model.eval()\n",
    "    predictions, actuals = [], []\n",
    "    with torch.no_grad():\n",
    "        for inputs, targets in test_loader:\n",
    "            inputs, targets = inputs.to(device).squeeze(-1), targets.to(device).unsqueeze(-1)\n",
    "            inputs = inputs.unsqueeze(-1)  # Ensure correct input shape\n",
    "            outputs = model(inputs)\n",
    "            predictions.extend(outputs.cpu().numpy())\n",
    "            actuals.extend(targets.cpu().numpy())\n",
    "    return np.array(predictions), np.array(actuals)"
   ]
  },
  {
   "cell_type": "code",
   "execution_count": 46,
   "id": "53b32c42-0337-463a-8106-37aa8c35bbf7",
   "metadata": {},
   "outputs": [],
   "source": [
    "predictions, actuals = test_model(model, test_loader)"
   ]
  },
  {
   "cell_type": "markdown",
   "id": "eb57940c",
   "metadata": {
    "id": "eb57940c"
   },
   "source": [
    "# 7. Report the result\n",
    "\n",
    "1. Plot the training and validation accuracy history.\n",
    "2. Plot the training and validation loss history. \n",
    "3. Report the testing accuracy and loss.\n",
    "4. Show Confusion Matrix for testing dataset.\n",
    "5. Report values for preformance study metrics like accuracy, precision, recall, F1 Score.\n"
   ]
  },
  {
   "cell_type": "code",
   "execution_count": 47,
   "id": "cf409d22",
   "metadata": {},
   "outputs": [],
   "source": [
    "# Report the Results\n",
    "def plot_results(train_loss, predictions, actuals):\n",
    "    plt.figure(figsize=(10,5))\n",
    "    plt.plot(train_loss, label='Train Loss')\n",
    "    plt.xlabel('Epochs')\n",
    "    plt.ylabel('Loss')\n",
    "    plt.title('Training Loss History')\n",
    "    plt.legend()\n",
    "    plt.show()\n",
    "    \n",
    "    plt.figure(figsize=(10,5))\n",
    "    plt.plot(actuals.squeeze(), label='Actual Prices')\n",
    "    plt.plot(predictions.squeeze(), label='Predicted Prices', linestyle='dashed')\n",
    "    plt.xlabel('Time')\n",
    "    plt.ylabel('Stock Price')\n",
    "    plt.title('Stock Price Prediction vs Actual')\n",
    "    plt.legend()\n",
    "    plt.show()"
   ]
  },
  {
   "cell_type": "code",
   "execution_count": 48,
   "id": "b0437495-fd89-4a10-8dea-aec632928f46",
   "metadata": {},
   "outputs": [],
   "source": [
    "# Metrics Calculation\n",
    "def evaluate_performance(predictions, actuals):\n",
    "    predictions_binary = np.where(predictions.squeeze() > np.mean(predictions), 1, 0)\n",
    "    actuals_binary = np.where(actuals.squeeze() > np.mean(actuals), 1, 0)\n",
    "    \n",
    "    acc = accuracy_score(actuals_binary, predictions_binary)\n",
    "    prec = precision_score(actuals_binary, predictions_binary)\n",
    "    rec = recall_score(actuals_binary, predictions_binary)\n",
    "    f1 = f1_score(actuals_binary, predictions_binary)\n",
    "    cm = confusion_matrix(actuals_binary, predictions_binary)\n",
    "    \n",
    "    print(f\"Accuracy: {acc:.4f}\")\n",
    "    print(f\"Precision: {prec:.4f}\")\n",
    "    print(f\"Recall: {rec:.4f}\")\n",
    "    print(f\"F1 Score: {f1:.4f}\")\n",
    "    \n",
    "    plt.figure(figsize=(6,5))\n",
    "    plt.imshow(cm, cmap='Blues')\n",
    "    plt.colorbar()\n",
    "    plt.xlabel('Predicted')\n",
    "    plt.ylabel('Actual')\n",
    "    plt.title('Confusion Matrix')\n",
    "    plt.show()"
   ]
  },
  {
   "cell_type": "code",
   "execution_count": 49,
   "id": "318003eb-64bc-4983-924d-bd8035b24d0b",
   "metadata": {},
   "outputs": [
    {
     "data": {
      "image/png": "[encoded data removed]",
      "text/plain": [
       "<Figure size 1000x500 with 1 Axes>"
      ]
     },
     "metadata": {},
     "output_type": "display_data"
    },
    {
     "data": {
      "image/png": "[encoded data removed]",
      "text/plain": [
       "<Figure size 1000x500 with 1 Axes>"
      ]
     },
     "metadata": {},
     "output_type": "display_data"
    }
   ],
   "source": [
    "plot_results(train_loss, predictions, actuals)"
   ]
  },
  {
   "cell_type": "code",
   "execution_count": 50,
   "id": "6bf7b3b9-f8db-4355-934e-cc0757ecc332",
   "metadata": {},
   "outputs": [
    {
     "name": "stdout",
     "output_type": "stream",
     "text": [
      "Accuracy: 0.9608\n",
      "Precision: 1.0000\n",
      "Recall: 0.9394\n",
      "F1 Score: 0.9688\n"
     ]
    },
    {
     "data": {
      "image/png": "[encoded data removed]",
      "text/plain": [
       "<Figure size 600x500 with 2 Axes>"
      ]
     },
     "metadata": {},
     "output_type": "display_data"
    }
   ],
   "source": [
    "evaluate_performance(predictions, actuals)"
   ]
  },
  {
   "cell_type": "markdown",
   "id": "23a9a079-c2ef-4d76-8fee-281dd42ee424",
   "metadata": {},
   "source": [
    "<h2>Conclusion:</h2>\n",
    "\n",
    "The model demonstrates an excellent performance in stock price prediction based on historical data. The high accuracy of 96.08% indicates that the model correctly predicts the stock trends in most cases. The precision score of 1.0000 suggests that the model makes highly confident positive predictions with minimal false positives.\n",
    "\n",
    "However, the recall score of 0.9394 indicates that there are some missed positive predictions (false negatives), which slightly impacts the balance between precision and recall. The F1 score of 0.9688 confirms a strong harmonic mean between precision and recall, ensuring a well-balanced predictive capability.\n",
    "\n",
    "Overall, the model is highly effective in forecasting stock trends, though slight improvements in recall may enhance its predictive ability further."
   ]
  },
  {
   "cell_type": "code",
   "execution_count": null,
   "id": "0ce1dd85-3d0e-44b9-ab4c-ee59431ebd3b",
   "metadata": {},
   "outputs": [],
   "source": []
  }
 ],
 "metadata": {
  "colab": {
   "provenance": []
  },
  "kernelspec": {
   "display_name": "Python 3 (ipykernel)",
   "language": "python",
   "name": "python3"
  },
  "language_info": {
   "codemirror_mode": {
    "name": "ipython",
    "version": 3
   },
   "file_extension": ".py",
   "mimetype": "text/x-python",
   "name": "python",
   "nbconvert_exporter": "python",
   "pygments_lexer": "ipython3",
   "version": "3.13.1"
  }
 },
 "nbformat": 4,
 "nbformat_minor": 5
}
